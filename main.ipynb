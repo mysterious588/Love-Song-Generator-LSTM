{
 "nbformat": 4,
 "nbformat_minor": 2,
 "metadata": {
  "language_info": {
   "name": "python",
   "codemirror_mode": {
    "name": "ipython",
    "version": 3
   },
   "version": "3.7.4-final"
  },
  "orig_nbformat": 2,
  "file_extension": ".py",
  "mimetype": "text/x-python",
  "name": "python",
  "npconvert_exporter": "python",
  "pygments_lexer": "ipython3",
  "version": 3,
  "kernelspec": {
   "name": "python37464bitbasecondabbbd6f6fc33d437fafd772992c71399d",
   "display_name": "Python 3.7.4 64-bit ('base': conda)"
  }
 },
 "cells": [
  {
   "cell_type": "code",
   "execution_count": 1,
   "metadata": {},
   "outputs": [],
   "source": [
    "import numpy as np\n",
    "import torch\n",
    "from torch import nn\n",
    "import torch.nn.functional as F"
   ]
  },
  {
   "cell_type": "code",
   "execution_count": 2,
   "metadata": {},
   "outputs": [],
   "source": [
    "file_name = 'songs.txt'\n",
    "with open(file_name, encoding=\"utf8\") as f:\n",
    "    text = f.read()"
   ]
  },
  {
   "cell_type": "code",
   "execution_count": 3,
   "metadata": {},
   "outputs": [
    {
     "name": "stdout",
     "output_type": "stream",
     "text": "Doesn't take much to make me happy\nAnd make me smile with glee \nNever never will I feel discouraged\n"
    }
   ],
   "source": [
    "print(text[:100])"
   ]
  },
  {
   "cell_type": "code",
   "execution_count": 4,
   "metadata": {},
   "outputs": [
    {
     "name": "stdout",
     "output_type": "stream",
     "text": "[67  6  4 41 87 46 24 19 24  7 52  4 19 25 64 51 26 19 24  6 19 25  7 52\n  4 19 25  4 19 26  7 77 77 72 65 88 87 97 19 25  7 52  4 19 25  4 19 41\n 25 60 14  4 19 75 60 24 26 19 61 14  4  4 19 65 98  4 10  4  5 19 87  4\n 10  4  5 19 75 60 14 14 19 21 19 27  4  4 14 19 97 60 41 51  6 64  5  7\n 61  4 97 19]\n"
    }
   ],
   "source": [
    "# a tuple containg each unique character\n",
    "chars = tuple(set(text))\n",
    "# dictionary having integers as key - chars as values\n",
    "int2char = dict(enumerate(chars))\n",
    "# dictionary having chars as key - integers as values\n",
    "char2int = dict((v,k) for k,v in int2char.items()) # https://stackoverflow.com/questions/1031851/how-do-i-exchange-keys-with-values-in-a-dictionary\n",
    "# convert the whole text into an array of numbers with the corresponding integer for each character\n",
    "encoded = np.array([char2int[ch] for ch in text])\n",
    "print(encoded[:100])"
   ]
  },
  {
   "cell_type": "code",
   "execution_count": 5,
   "metadata": {},
   "outputs": [],
   "source": [
    "# one hot encode (setting a value in a vector of zeros to one)\n",
    "def one_hot_encode(arr, n_labels):\n",
    "    \n",
    "    # Initialize the the encoded array\n",
    "    # a row for each value in 'arr', column for each lablel\n",
    "    one_hot = np.zeros((arr.size, n_labels), dtype=np.float32)\n",
    "\n",
    "    # Fill the appropriate elements with ones\n",
    "    one_hot[np.arange(one_hot.shape[0]), arr.flatten()] = 1.\n",
    "    \n",
    "    # Finally reshape it to get back to the original array\n",
    "    one_hot = one_hot.reshape((*arr.shape, n_labels))\n",
    "    \n",
    "    return one_hot"
   ]
  },
  {
   "cell_type": "code",
   "execution_count": 6,
   "metadata": {},
   "outputs": [],
   "source": [
    "def get_batches(arr, batch_size, seq_length):\n",
    "    '''Create a generator that returns batches of size\n",
    "       batch_size x seq_length from arr.\n",
    "       \n",
    "       Arguments\n",
    "       ---------\n",
    "       arr: Array you want to make batches from\n",
    "       batch_size: Batch size, the number of sequences per batch\n",
    "       seq_length: Number of encoded chars in a sequence\n",
    "    '''\n",
    "    \n",
    "    batch_size_total = batch_size * seq_length\n",
    "    # total number of batches we can make\n",
    "    # floor division\n",
    "    n_batches = len(arr)//batch_size_total\n",
    "    \n",
    "    # Keep only enough characters to make full batches\n",
    "    arr = arr[:n_batches * batch_size_total]\n",
    "    # Reshape into batch_size rows\n",
    "    arr = arr.reshape((batch_size, -1))\n",
    "    # iterate through the array, one sequence at a time\n",
    "    for n in range(0, arr.shape[1], seq_length):\n",
    "        # The features\n",
    "        x = arr[:, n:n+seq_length]\n",
    "        # The targets, shifted by one\n",
    "        y = np.zeros_like(x)\n",
    "        try:\n",
    "            y[:, :-1], y[:, -1] = x[:, 1:], arr[:, n+seq_length]\n",
    "        except IndexError:\n",
    "            y[:, :-1], y[:, -1] = x[:, 1:], arr[:, 0]\n",
    "        yield x, y"
   ]
  },
  {
   "cell_type": "code",
   "execution_count": 7,
   "metadata": {},
   "outputs": [
    {
     "name": "stdout",
     "output_type": "stream",
     "text": "<generator object get_batches at 0x000002224D054B48>\n400\n"
    }
   ],
   "source": [
    "batches = get_batches(encoded, 8, 50)\n",
    "print(batches)\n",
    "x, y = next(batches)\n",
    "print(x.size)"
   ]
  },
  {
   "cell_type": "code",
   "execution_count": 8,
   "metadata": {},
   "outputs": [
    {
     "name": "stdout",
     "output_type": "stream",
     "text": "x\n[[67  6  4 41 87 46 24 19 24  7]\n [64 65 15  6  5  4 19  4  7 51]\n [65 21 46 25 19 24  7 14 52 60]\n [ 4 19 82 64 41 24 19 24 26  4]\n [60 14 41 40 19  7 87 72 24 60]\n [77 19  7 19 25  6 64 87 24  7]\n [77  5  6 25 60 41  4 19 72  6]\n [ 5 19 26  4  7  5 24 53 65 98]]\n\ny\n[[ 6  4 41 87 46 24 19 24  7 52]\n [65 15  6  5  4 19  4  7 51 26]\n [21 46 25 19 24  7 14 52 60 87]\n [19 82 64 41 24 19 24 26  4 19]\n [14 41 40 19  7 87 72 24 60 25]\n [19  7 19 25  6 64 87 24  7 60]\n [ 5  6 25 60 41  4 19 72  6 64]\n [19 26  4  7  5 24 53 65 98  6]]\n"
    }
   ],
   "source": [
    "# printing out the first 10 items in a sequence\n",
    "print('x\\n', x[:10, :10])\n",
    "print('\\ny\\n', y[:10, :10])\n",
    "\n",
    "# Results are shifted by one"
   ]
  },
  {
   "cell_type": "code",
   "execution_count": 9,
   "metadata": {},
   "outputs": [
    {
     "name": "stdout",
     "output_type": "stream",
     "text": "Training on GPU!\n"
    }
   ],
   "source": [
    "# check if GPU is available\n",
    "train_on_gpu = torch.cuda.is_available()\n",
    "if(train_on_gpu):\n",
    "    print('Training on GPU!')\n",
    "else: \n",
    "    print('No GPU available, training on CPU; consider making n_epochs very small.')"
   ]
  },
  {
   "cell_type": "code",
   "execution_count": 10,
   "metadata": {},
   "outputs": [],
   "source": [
    "class CharRNN(nn.Module):\n",
    "    \n",
    "    def __init__(self, tokens, n_hidden=256, n_layers=2,\n",
    "                               drop_prob=0.5, lr=0.001):\n",
    "        super().__init__()\n",
    "        self.drop_prob = drop_prob\n",
    "        self.n_layers = n_layers\n",
    "        self.n_hidden = n_hidden\n",
    "        self.lr = lr\n",
    "        \n",
    "        # creating character dictionaries\n",
    "        self.chars = tokens\n",
    "        self.int2char = dict(enumerate(self.chars))\n",
    "        self.char2int = {ch: ii for ii, ch in self.int2char.items()}\n",
    "        \n",
    "        self.lstm = nn.LSTM(len(self.chars), n_hidden, n_layers, \n",
    "                            dropout=drop_prob, batch_first=True)\n",
    "        \n",
    "        self.dropout = nn.Dropout(drop_prob)\n",
    "        \n",
    "        self.fc = nn.Linear(n_hidden, len(self.chars))\n",
    "      \n",
    "    \n",
    "    def forward(self, x, hidden):\n",
    "        ''' Forward pass through the network. \n",
    "            These inputs are x, and the hidden/cell state `hidden`. '''\n",
    "                \n",
    "        # Get the outputs and the new hidden state from the lstm\n",
    "        r_output, hidden = self.lstm(x, hidden)\n",
    "        \n",
    "        # pass through a dropout layer\n",
    "        out = self.dropout(r_output)\n",
    "        \n",
    "        # Stack up LSTM outputs using view\n",
    "        # you may need to use contiguous to reshape the output\n",
    "        out = out.contiguous().view(-1, self.n_hidden)\n",
    "        \n",
    "        # put x through the fully-connected layer\n",
    "        out = self.fc(out)\n",
    "        \n",
    "        # return the final output and the hidden state\n",
    "        return out, hidden\n",
    "    \n",
    "    \n",
    "    def init_hidden(self, batch_size):\n",
    "        ''' Initializes hidden state '''\n",
    "        # Create two new tensors with sizes n_layers x batch_size x n_hidden,\n",
    "        # initialized to zero, for hidden state and cell state of LSTM\n",
    "        weight = next(self.parameters()).data\n",
    "        \n",
    "        if (train_on_gpu):\n",
    "            hidden = (weight.new(self.n_layers, batch_size, self.n_hidden).zero_().cuda(),\n",
    "                  weight.new(self.n_layers, batch_size, self.n_hidden).zero_().cuda())\n",
    "        else:\n",
    "            hidden = (weight.new(self.n_layers, batch_size, self.n_hidden).zero_(),\n",
    "                      weight.new(self.n_layers, batch_size, self.n_hidden).zero_())\n",
    "        \n",
    "        return hidden\n",
    "        "
   ]
  },
  {
   "cell_type": "code",
   "execution_count": 11,
   "metadata": {},
   "outputs": [],
   "source": [
    "def train(model, data, epochs=10, batch_size=10, seq_length=50, lr=0.001, clip=5, val_frac=0.1, print_every=10):\n",
    "    ''' Training a network \n",
    "    \n",
    "        Arguments\n",
    "        ---------\n",
    "        \n",
    "        model: CharRNN network\n",
    "        data: text data to train the network\n",
    "        epochs: Number of epochs to train\n",
    "        batch_size: Number of mini-sequences per mini-batch, aka batch size\n",
    "        seq_length: Number of character steps per mini-batch\n",
    "        lr: learning rate\n",
    "        clip: gradient clipping\n",
    "        val_frac: Fraction of data to hold out for validation\n",
    "        print_every: Number of steps for printing training and validation loss\n",
    "    \n",
    "    '''\n",
    "    model.train()\n",
    "    \n",
    "    opt = torch.optim.Adam(model.parameters(), lr=lr)\n",
    "    criterion = nn.CrossEntropyLoss()\n",
    "    \n",
    "    # create training and validation data\n",
    "    val_idx = int(len(data)*(1-val_frac))\n",
    "    data, val_data = data[:val_idx], data[val_idx:]\n",
    "    \n",
    "    if(train_on_gpu):\n",
    "        model.cuda()\n",
    "    \n",
    "    counter = 0\n",
    "    n_chars = len(model.chars)\n",
    "    for e in range(epochs):\n",
    "        # initialize hidden state\n",
    "        h = model.init_hidden(batch_size)\n",
    "        \n",
    "        for x, y in get_batches(data, batch_size, seq_length):\n",
    "            counter += 1\n",
    "            \n",
    "            # One-hot encode our data and make them Torch tensors\n",
    "            x = one_hot_encode(x, n_chars)\n",
    "            inputs, targets = torch.from_numpy(x), torch.from_numpy(y)\n",
    "            \n",
    "            if(train_on_gpu):\n",
    "                inputs, targets = inputs.cuda(), targets.cuda()\n",
    "\n",
    "            # Creating new variables for the hidden state, otherwise\n",
    "            # we'd backprop through the entire training history\n",
    "            h = tuple([each.data for each in h])\n",
    "\n",
    "            # zero accumulated gradients\n",
    "            model.zero_grad()\n",
    "            \n",
    "            # get the output from the model\n",
    "            output, h = model(inputs, h)\n",
    "            \n",
    "            # calculate the loss and perform backprop\n",
    "            loss = criterion(output, targets.view(batch_size*seq_length).long())\n",
    "            loss.backward()\n",
    "            # `clip_grad_norm` helps prevent the exploding gradient problem in RNNs / LSTMs.\n",
    "            nn.utils.clip_grad_norm_(model.parameters(), clip)\n",
    "            opt.step()\n",
    "            \n",
    "            # loss stats\n",
    "            if counter % print_every == 0:\n",
    "                # Get validation loss\n",
    "                val_h = model.init_hidden(batch_size)\n",
    "                val_losses = []\n",
    "                model.eval()\n",
    "                for x, y in get_batches(val_data, batch_size, seq_length):\n",
    "                    # One-hot encode our data and make them Torch tensors\n",
    "                    x = one_hot_encode(x, n_chars)\n",
    "                    x, y = torch.from_numpy(x), torch.from_numpy(y)\n",
    "                    \n",
    "                    # Creating new variables for the hidden state, otherwise\n",
    "                    # we'd backprop through the entire training history\n",
    "                    val_h = tuple([each.data for each in val_h])\n",
    "                    \n",
    "                    inputs, targets = x, y\n",
    "                    if(train_on_gpu):\n",
    "                        inputs, targets = inputs.cuda(), targets.cuda()\n",
    "\n",
    "                    output, val_h = model(inputs, val_h)\n",
    "                    val_loss = criterion(output, targets.view(batch_size*seq_length).long())\n",
    "                \n",
    "                    val_losses.append(val_loss.item())\n",
    "                \n",
    "                model.train() # reset to train mode after iterationg through validation data\n",
    "                \n",
    "                print(\"Epoch: {}/{}...\".format(e+1, epochs),\n",
    "                      \"Step: {}...\".format(counter),\n",
    "                      \"Loss: {:.4f}...\".format(loss.item()),\n",
    "                      \"Val Loss: {:.4f}\".format(np.mean(val_losses)))"
   ]
  },
  {
   "cell_type": "code",
   "execution_count": 12,
   "metadata": {},
   "outputs": [
    {
     "name": "stdout",
     "output_type": "stream",
     "text": "CharRNN(\n  (lstm): LSTM(99, 512, num_layers=2, batch_first=True, dropout=0.5)\n  (dropout): Dropout(p=0.5, inplace=False)\n  (fc): Linear(in_features=512, out_features=99, bias=True)\n)\n"
    }
   ],
   "source": [
    "# define and print the net\n",
    "n_hidden=512\n",
    "n_layers=2\n",
    "\n",
    "net = CharRNN(chars, n_hidden, n_layers)\n",
    "print(net)"
   ]
  },
  {
   "cell_type": "code",
   "execution_count": 13,
   "metadata": {},
   "outputs": [
    {
     "name": "stdout",
     "output_type": "stream",
     "text": "...Val Loss: 1.4905\nEpoch: 18/20...Step: 2188...Loss: 1.1254...Val Loss: 1.4855\nEpoch: 18/20...Step: 2189...Loss: 1.2149...Val Loss: 1.4823\nEpoch: 18/20...Step: 2190...Loss: 1.1969...Val Loss: 1.4809\nEpoch: 18/20...Step: 2191...Loss: 1.1598...Val Loss: 1.4822\nEpoch: 18/20...Step: 2192...Loss: 1.1468...Val Loss: 1.4854\nEpoch: 18/20...Step: 2193...Loss: 1.1301...Val Loss: 1.4902\nEpoch: 18/20...Step: 2194...Loss: 1.1434...Val Loss: 1.4903\nEpoch: 18/20...Step: 2195...Loss: 1.1426...Val Loss: 1.4839\nEpoch: 18/20...Step: 2196...Loss: 1.1797...Val Loss: 1.4797\nEpoch: 18/20...Step: 2197...Loss: 1.1234...Val Loss: 1.4808\nEpoch: 18/20...Step: 2198...Loss: 1.1612...Val Loss: 1.4848\nEpoch: 18/20...Step: 2199...Loss: 1.1979...Val Loss: 1.4897\nEpoch: 18/20...Step: 2200...Loss: 1.1630...Val Loss: 1.4946\nEpoch: 18/20...Step: 2201...Loss: 1.2291...Val Loss: 1.4965\nEpoch: 18/20...Step: 2202...Loss: 1.1437...Val Loss: 1.4946\nEpoch: 18/20...Step: 2203...Loss: 1.1513...Val Loss: 1.4894\nEpoch: 18/20...Step: 2204...Loss: 1.1098...Val Loss: 1.4846\nEpoch: 18/20...Step: 2205...Loss: 1.1585...Val Loss: 1.4825\nEpoch: 18/20...Step: 2206...Loss: 1.1785...Val Loss: 1.4811\nEpoch: 18/20...Step: 2207...Loss: 1.1685...Val Loss: 1.4827\nEpoch: 18/20...Step: 2208...Loss: 1.1593...Val Loss: 1.4868\nEpoch: 18/20...Step: 2209...Loss: 1.1640...Val Loss: 1.4902\nEpoch: 18/20...Step: 2210...Loss: 1.1285...Val Loss: 1.4904\nEpoch: 18/20...Step: 2211...Loss: 1.0966...Val Loss: 1.4889\nEpoch: 18/20...Step: 2212...Loss: 1.1439...Val Loss: 1.4858\nEpoch: 18/20...Step: 2213...Loss: 1.1132...Val Loss: 1.4839\nEpoch: 18/20...Step: 2214...Loss: 1.1963...Val Loss: 1.4825\nEpoch: 18/20...Step: 2215...Loss: 1.1954...Val Loss: 1.4830\nEpoch: 18/20...Step: 2216...Loss: 1.1504...Val Loss: 1.4852\nEpoch: 18/20...Step: 2217...Loss: 1.1450...Val Loss: 1.4866\nEpoch: 18/20...Step: 2218...Loss: 1.1459...Val Loss: 1.4843\nEpoch: 18/20...Step: 2219...Loss: 1.1819...Val Loss: 1.4808\nEpoch: 18/20...Step: 2220...Loss: 1.2018...Val Loss: 1.4790\nEpoch: 18/20...Step: 2221...Loss: 1.2146...Val Loss: 1.4795\nEpoch: 18/20...Step: 2222...Loss: 1.1748...Val Loss: 1.4826\nEpoch: 18/20...Step: 2223...Loss: 1.1445...Val Loss: 1.4883\nEpoch: 18/20...Step: 2224...Loss: 1.1035...Val Loss: 1.4934\nEpoch: 18/20...Step: 2225...Loss: 1.1618...Val Loss: 1.4935\nEpoch: 18/20...Step: 2226...Loss: 1.1375...Val Loss: 1.4888\nEpoch: 18/20...Step: 2227...Loss: 1.1111...Val Loss: 1.4844\nEpoch: 18/20...Step: 2228...Loss: 1.1569...Val Loss: 1.4802\nEpoch: 18/20...Step: 2229...Loss: 1.1275...Val Loss: 1.4782\nEpoch: 18/20...Step: 2230...Loss: 1.1220...Val Loss: 1.4781\nEpoch: 18/20...Step: 2231...Loss: 1.1019...Val Loss: 1.4802\nEpoch: 18/20...Step: 2232...Loss: 1.1242...Val Loss: 1.4826\nEpoch: 18/20...Step: 2233...Loss: 1.1548...Val Loss: 1.4818\nEpoch: 18/20...Step: 2234...Loss: 1.1840...Val Loss: 1.4783\nEpoch: 18/20...Step: 2235...Loss: 1.1332...Val Loss: 1.4748\nEpoch: 18/20...Step: 2236...Loss: 1.1362...Val Loss: 1.4717\nEpoch: 18/20...Step: 2237...Loss: 1.1638...Val Loss: 1.4718\nEpoch: 18/20...Step: 2238...Loss: 1.1337...Val Loss: 1.4756\nEpoch: 18/20...Step: 2239...Loss: 1.1367...Val Loss: 1.4835\nEpoch: 18/20...Step: 2240...Loss: 1.1336...Val Loss: 1.4871\nEpoch: 18/20...Step: 2241...Loss: 1.1365...Val Loss: 1.4836\nEpoch: 18/20...Step: 2242...Loss: 1.1079...Val Loss: 1.4781\nEpoch: 18/20...Step: 2243...Loss: 1.1204...Val Loss: 1.4755\nEpoch: 18/20...Step: 2244...Loss: 1.1085...Val Loss: 1.4785\nEpoch: 18/20...Step: 2245...Loss: 1.1461...Val Loss: 1.4831\nEpoch: 18/20...Step: 2246...Loss: 1.1673...Val Loss: 1.4874\nEpoch: 18/20...Step: 2247...Loss: 1.1689...Val Loss: 1.4903\nEpoch: 18/20...Step: 2248...Loss: 1.1519...Val Loss: 1.4893\nEpoch: 18/20...Step: 2249...Loss: 1.0929...Val Loss: 1.4860\nEpoch: 18/20...Step: 2250...Loss: 1.1296...Val Loss: 1.4817\nEpoch: 18/20...Step: 2251...Loss: 1.1108...Val Loss: 1.4808\nEpoch: 18/20...Step: 2252...Loss: 1.1301...Val Loss: 1.4819\nEpoch: 18/20...Step: 2253...Loss: 1.1405...Val Loss: 1.4840\nEpoch: 18/20...Step: 2254...Loss: 1.1676...Val Loss: 1.4868\nEpoch: 18/20...Step: 2255...Loss: 1.1691...Val Loss: 1.4876\nEpoch: 18/20...Step: 2256...Loss: 1.1277...Val Loss: 1.4852\nEpoch: 18/20...Step: 2257...Loss: 1.1493...Val Loss: 1.4809\nEpoch: 18/20...Step: 2258...Loss: 1.1665...Val Loss: 1.4782\nEpoch: 18/20...Step: 2259...Loss: 1.1297...Val Loss: 1.4778\nEpoch: 18/20...Step: 2260...Loss: 1.1355...Val Loss: 1.4793\nEpoch: 18/20...Step: 2261...Loss: 1.1059...Val Loss: 1.4825\nEpoch: 18/20...Step: 2262...Loss: 1.0960...Val Loss: 1.4874\nEpoch: 18/20...Step: 2263...Loss: 1.0990...Val Loss: 1.4902\nEpoch: 18/20...Step: 2264...Loss: 1.1143...Val Loss: 1.4899\nEpoch: 18/20...Step: 2265...Loss: 1.1581...Val Loss: 1.4868\nEpoch: 18/20...Step: 2266...Loss: 1.1513...Val Loss: 1.4819\nEpoch: 18/20...Step: 2267...Loss: 1.1444...Val Loss: 1.4783\nEpoch: 18/20...Step: 2268...Loss: 1.1429...Val Loss: 1.4771\nEpoch: 19/20...Step: 2269...Loss: 1.1991...Val Loss: 1.4780\nEpoch: 19/20...Step: 2270...Loss: 1.2091...Val Loss: 1.4814\nEpoch: 19/20...Step: 2271...Loss: 1.2204...Val Loss: 1.4856\nEpoch: 19/20...Step: 2272...Loss: 1.1520...Val Loss: 1.4900\nEpoch: 19/20...Step: 2273...Loss: 1.1134...Val Loss: 1.4899\nEpoch: 19/20...Step: 2274...Loss: 1.1380...Val Loss: 1.4869\nEpoch: 19/20...Step: 2275...Loss: 1.1697...Val Loss: 1.4831\nEpoch: 19/20...Step: 2276...Loss: 1.1825...Val Loss: 1.4794\nEpoch: 19/20...Step: 2277...Loss: 1.1383...Val Loss: 1.4778\nEpoch: 19/20...Step: 2278...Loss: 1.1372...Val Loss: 1.4780\nEpoch: 19/20...Step: 2279...Loss: 1.1180...Val Loss: 1.4808\nEpoch: 19/20...Step: 2280...Loss: 1.1252...Val Loss: 1.4833\nEpoch: 19/20...Step: 2281...Loss: 1.1200...Val Loss: 1.4849\nEpoch: 19/20...Step: 2282...Loss: 1.0977...Val Loss: 1.4829\nEpoch: 19/20...Step: 2283...Loss: 1.0987...Val Loss: 1.4799\nEpoch: 19/20...Step: 2284...Loss: 1.0749...Val Loss: 1.4795\nEpoch: 19/20...Step: 2285...Loss: 1.0451...Val Loss: 1.4804\nEpoch: 19/20...Step: 2286...Loss: 1.0027...Val Loss: 1.4828\nEpoch: 19/20...Step: 2287...Loss: 1.0928...Val Loss: 1.4869\nEpoch: 19/20...Step: 2288...Loss: 1.0711...Val Loss: 1.4902\nEpoch: 19/20...Step: 2289...Loss: 1.0961...Val Loss: 1.4903\nEpoch: 19/20...Step: 2290...Loss: 1.0776...Val Loss: 1.4879\nEpoch: 19/20...Step: 2291...Loss: 1.0828...Val Loss: 1.4850\nEpoch: 19/20...Step: 2292...Loss: 1.1177...Val Loss: 1.4813\nEpoch: 19/20...Step: 2293...Loss: 1.1160...Val Loss: 1.4806\nEpoch: 19/20...Step: 2294...Loss: 1.0820...Val Loss: 1.4815\nEpoch: 19/20...Step: 2295...Loss: 1.1087...Val Loss: 1.4838\nEpoch: 19/20...Step: 2296...Loss: 1.1134...Val Loss: 1.4864\nEpoch: 19/20...Step: 2297...Loss: 1.0890...Val Loss: 1.4870\nEpoch: 19/20...Step: 2298...Loss: 1.0719...Val Loss: 1.4844\nEpoch: 19/20...Step: 2299...Loss: 1.1262...Val Loss: 1.4799\nEpoch: 19/20...Step: 2300...Loss: 1.1122...Val Loss: 1.4784\nEpoch: 19/20...Step: 2301...Loss: 1.0417...Val Loss: 1.4804\nEpoch: 19/20...Step: 2302...Loss: 1.0911...Val Loss: 1.4836\nEpoch: 19/20...Step: 2303...Loss: 1.0939...Val Loss: 1.4901\nEpoch: 19/20...Step: 2304...Loss: 1.0948...Val Loss: 1.4954\nEpoch: 19/20...Step: 2305...Loss: 1.1327...Val Loss: 1.4888\nEpoch: 19/20...Step: 2306...Loss: 1.1130...Val Loss: 1.4807\nEpoch: 19/20...Step: 2307...Loss: 1.0933...Val Loss: 1.4769\nEpoch: 19/20...Step: 2308...Loss: 1.1102...Val Loss: 1.4787\nEpoch: 19/20...Step: 2309...Loss: 1.0856...Val Loss: 1.4841\nEpoch: 19/20...Step: 2310...Loss: 1.1409...Val Loss: 1.4912\nEpoch: 19/20...Step: 2311...Loss: 1.1133...Val Loss: 1.4996\nEpoch: 19/20...Step: 2312...Loss: 1.1261...Val Loss: 1.4980\nEpoch: 19/20...Step: 2313...Loss: 1.1069...Val Loss: 1.4899\nEpoch: 19/20...Step: 2314...Loss: 1.1308...Val Loss: 1.4811\nEpoch: 19/20...Step: 2315...Loss: 1.1995...Val Loss: 1.4760\nEpoch: 19/20...Step: 2316...Loss: 1.1689...Val Loss: 1.4754\nEpoch: 19/20...Step: 2317...Loss: 1.1508...Val Loss: 1.4767\nEpoch: 19/20...Step: 2318...Loss: 1.1391...Val Loss: 1.4788\nEpoch: 19/20...Step: 2319...Loss: 1.1284...Val Loss: 1.4817\nEpoch: 19/20...Step: 2320...Loss: 1.1318...Val Loss: 1.4860\nEpoch: 19/20...Step: 2321...Loss: 1.1541...Val Loss: 1.4883\nEpoch: 19/20...Step: 2322...Loss: 1.1503...Val Loss: 1.4866\nEpoch: 19/20...Step: 2323...Loss: 1.1021...Val Loss: 1.4841\nEpoch: 19/20...Step: 2324...Loss: 1.1542...Val Loss: 1.4823\nEpoch: 19/20...Step: 2325...Loss: 1.1777...Val Loss: 1.4828\nEpoch: 19/20...Step: 2326...Loss: 1.1349...Val Loss: 1.4853\nEpoch: 19/20...Step: 2327...Loss: 1.2186...Val Loss: 1.4875\nEpoch: 19/20...Step: 2328...Loss: 1.1179...Val Loss: 1.4895\nEpoch: 19/20...Step: 2329...Loss: 1.1124...Val Loss: 1.4904\nEpoch: 19/20...Step: 2330...Loss: 1.0883...Val Loss: 1.4906\nEpoch: 19/20...Step: 2331...Loss: 1.1276...Val Loss: 1.4893\nEpoch: 19/20...Step: 2332...Loss: 1.1468...Val Loss: 1.4844\nEpoch: 19/20...Step: 2333...Loss: 1.1492...Val Loss: 1.4803\nEpoch: 19/20...Step: 2334...Loss: 1.1421...Val Loss: 1.4780\nEpoch: 19/20...Step: 2335...Loss: 1.1510...Val Loss: 1.4785\nEpoch: 19/20...Step: 2336...Loss: 1.1107...Val Loss: 1.4829\nEpoch: 19/20...Step: 2337...Loss: 1.0804...Val Loss: 1.4886\nEpoch: 19/20...Step: 2338...Loss: 1.1228...Val Loss: 1.4902\nEpoch: 19/20...Step: 2339...Loss: 1.1117...Val Loss: 1.4877\nEpoch: 19/20...Step: 2340...Loss: 1.1744...Val Loss: 1.4832\nEpoch: 19/20...Step: 2341...Loss: 1.1816...Val Loss: 1.4804\nEpoch: 19/20...Step: 2342...Loss: 1.1190...Val Loss: 1.4808\nEpoch: 19/20...Step: 2343...Loss: 1.1218...Val Loss: 1.4831\nEpoch: 19/20...Step: 2344...Loss: 1.1354...Val Loss: 1.4850\nEpoch: 19/20...Step: 2345...Loss: 1.1686...Val Loss: 1.4843\nEpoch: 19/20...Step: 2346...Loss: 1.1791...Val Loss: 1.4835\nEpoch: 19/20...Step: 2347...Loss: 1.1926...Val Loss: 1.4803\nEpoch: 19/20...Step: 2348...Loss: 1.1641...Val Loss: 1.4766\nEpoch: 19/20...Step: 2349...Loss: 1.1288...Val Loss: 1.4753\nEpoch: 19/20...Step: 2350...Loss: 1.1017...Val Loss: 1.4774\nEpoch: 19/20...Step: 2351...Loss: 1.1637...Val Loss: 1.4809\nEpoch: 19/20...Step: 2352...Loss: 1.1239...Val Loss: 1.4840\nEpoch: 19/20...Step: 2353...Loss: 1.0872...Val Loss: 1.4847\nEpoch: 19/20...Step: 2354...Loss: 1.1358...Val Loss: 1.4826\nEpoch: 19/20...Step: 2355...Loss: 1.1107...Val Loss: 1.4802\nEpoch: 19/20...Step: 2356...Loss: 1.1002...Val Loss: 1.4784\nEpoch: 19/20...Step: 2357...Loss: 1.0921...Val Loss: 1.4778\nEpoch: 19/20...Step: 2358...Loss: 1.1216...Val Loss: 1.4784\nEpoch: 19/20...Step: 2359...Loss: 1.1325...Val Loss: 1.4795\nEpoch: 19/20...Step: 2360...Loss: 1.1616...Val Loss: 1.4795\nEpoch: 19/20...Step: 2361...Loss: 1.1014...Val Loss: 1.4792\nEpoch: 19/20...Step: 2362...Loss: 1.1338...Val Loss: 1.4764\nEpoch: 19/20...Step: 2363...Loss: 1.1412...Val Loss: 1.4750\nEpoch: 19/20...Step: 2364...Loss: 1.1142...Val Loss: 1.4754\nEpoch: 19/20...Step: 2365...Loss: 1.1350...Val Loss: 1.4782\nEpoch: 19/20...Step: 2366...Loss: 1.1122...Val Loss: 1.4830\nEpoch: 19/20...Step: 2367...Loss: 1.1143...Val Loss: 1.4861\nEpoch: 19/20...Step: 2368...Loss: 1.0846...Val Loss: 1.4835\nEpoch: 19/20...Step: 2369...Loss: 1.0811...Val Loss: 1.4789\nEpoch: 19/20...Step: 2370...Loss: 1.0856...Val Loss: 1.4767\nEpoch: 19/20...Step: 2371...Loss: 1.1088...Val Loss: 1.4776\nEpoch: 19/20...Step: 2372...Loss: 1.1516...Val Loss: 1.4794\nEpoch: 19/20...Step: 2373...Loss: 1.1482...Val Loss: 1.4828\nEpoch: 19/20...Step: 2374...Loss: 1.1235...Val Loss: 1.4869\nEpoch: 19/20...Step: 2375...Loss: 1.0735...Val Loss: 1.4904\nEpoch: 19/20...Step: 2376...Loss: 1.1213...Val Loss: 1.4903\nEpoch: 19/20...Step: 2377...Loss: 1.0904...Val Loss: 1.4883\nEpoch: 19/20...Step: 2378...Loss: 1.1121...Val Loss: 1.4859\nEpoch: 19/20...Step: 2379...Loss: 1.1105...Val Loss: 1.4834\nEpoch: 19/20...Step: 2380...Loss: 1.1430...Val Loss: 1.4824\nEpoch: 19/20...Step: 2381...Loss: 1.1493...Val Loss: 1.4824\nEpoch: 19/20...Step: 2382...Loss: 1.1012...Val Loss: 1.4832\nEpoch: 19/20...Step: 2383...Loss: 1.1364...Val Loss: 1.4813\nEpoch: 19/20...Step: 2384...Loss: 1.1351...Val Loss: 1.4778\nEpoch: 19/20...Step: 2385...Loss: 1.1040...Val Loss: 1.4758\nEpoch: 19/20...Step: 2386...Loss: 1.0963...Val Loss: 1.4752\nEpoch: 19/20...Step: 2387...Loss: 1.0764...Val Loss: 1.4765\nEpoch: 19/20...Step: 2388...Loss: 1.0683...Val Loss: 1.4804\nEpoch: 19/20...Step: 2389...Loss: 1.0760...Val Loss: 1.4851\nEpoch: 19/20...Step: 2390...Loss: 1.0823...Val Loss: 1.4874\nEpoch: 19/20...Step: 2391...Loss: 1.1262...Val Loss: 1.4846\nEpoch: 19/20...Step: 2392...Loss: 1.1304...Val Loss: 1.4777\nEpoch: 19/20...Step: 2393...Loss: 1.1255...Val Loss: 1.4726\nEpoch: 19/20...Step: 2394...Loss: 1.1214...Val Loss: 1.4699\nEpoch: 20/20...Step: 2395...Loss: 1.1826...Val Loss: 1.4714\nEpoch: 20/20...Step: 2396...Loss: 1.1827...Val Loss: 1.4774\nEpoch: 20/20...Step: 2397...Loss: 1.1995...Val Loss: 1.4841\nEpoch: 20/20...Step: 2398...Loss: 1.1236...Val Loss: 1.4908\nEpoch: 20/20...Step: 2399...Loss: 1.0810...Val Loss: 1.4906\nEpoch: 20/20...Step: 2400...Loss: 1.1218...Val Loss: 1.4858\nEpoch: 20/20...Step: 2401...Loss: 1.1511...Val Loss: 1.4799\nEpoch: 20/20...Step: 2402...Loss: 1.1549...Val Loss: 1.4765\nEpoch: 20/20...Step: 2403...Loss: 1.1169...Val Loss: 1.4761\nEpoch: 20/20...Step: 2404...Loss: 1.1122...Val Loss: 1.4780\nEpoch: 20/20...Step: 2405...Loss: 1.0906...Val Loss: 1.4821\nEpoch: 20/20...Step: 2406...Loss: 1.1049...Val Loss: 1.4836\nEpoch: 20/20...Step: 2407...Loss: 1.0996...Val Loss: 1.4830\nEpoch: 20/20...Step: 2408...Loss: 1.0717...Val Loss: 1.4797\nEpoch: 20/20...Step: 2409...Loss: 1.0706...Val Loss: 1.4780\nEpoch: 20/20...Step: 2410...Loss: 1.0564...Val Loss: 1.4785\nEpoch: 20/20...Step: 2411...Loss: 1.0246...Val Loss: 1.4793\nEpoch: 20/20...Step: 2412...Loss: 0.9803...Val Loss: 1.4818\nEpoch: 20/20...Step: 2413...Loss: 1.0786...Val Loss: 1.4853\nEpoch: 20/20...Step: 2414...Loss: 1.0532...Val Loss: 1.4894\nEpoch: 20/20...Step: 2415...Loss: 1.0815...Val Loss: 1.4895\nEpoch: 20/20...Step: 2416...Loss: 1.0539...Val Loss: 1.4847\nEpoch: 20/20...Step: 2417...Loss: 1.0679...Val Loss: 1.4788\nEpoch: 20/20...Step: 2418...Loss: 1.1007...Val Loss: 1.4746\nEpoch: 20/20...Step: 2419...Loss: 1.0946...Val Loss: 1.4746\nEpoch: 20/20...Step: 2420...Loss: 1.0719...Val Loss: 1.4777\nEpoch: 20/20...Step: 2421...Loss: 1.0676...Val Loss: 1.4841\nEpoch: 20/20...Step: 2422...Loss: 1.0889...Val Loss: 1.4924\nEpoch: 20/20...Step: 2423...Loss: 1.0595...Val Loss: 1.4938\nEpoch: 20/20...Step: 2424...Loss: 1.0570...Val Loss: 1.4871\nEpoch: 20/20...Step: 2425...Loss: 1.0970...Val Loss: 1.4789\nEpoch: 20/20...Step: 2426...Loss: 1.0894...Val Loss: 1.4754\nEpoch: 20/20...Step: 2427...Loss: 1.0230...Val Loss: 1.4749\nEpoch: 20/20...Step: 2428...Loss: 1.0522...Val Loss: 1.4781\nEpoch: 20/20...Step: 2429...Loss: 1.0819...Val Loss: 1.4883\nEpoch: 20/20...Step: 2430...Loss: 1.0570...Val Loss: 1.4991\nEpoch: 20/20...Step: 2431...Loss: 1.1129...Val Loss: 1.4954\nEpoch: 20/20...Step: 2432...Loss: 1.0935...Val Loss: 1.4805\nEpoch: 20/20...Step: 2433...Loss: 1.0585...Val Loss: 1.4728\nEpoch: 20/20...Step: 2434...Loss: 1.0904...Val Loss: 1.4716\nEpoch: 20/20...Step: 2435...Loss: 1.0708...Val Loss: 1.4749\nEpoch: 20/20...Step: 2436...Loss: 1.1317...Val Loss: 1.4794\nEpoch: 20/20...Step: 2437...Loss: 1.0946...Val Loss: 1.4867\nEpoch: 20/20...Step: 2438...Loss: 1.1057...Val Loss: 1.4927\nEpoch: 20/20...Step: 2439...Loss: 1.0891...Val Loss: 1.4953\nEpoch: 20/20...Step: 2440...Loss: 1.0953...Val Loss: 1.4922\nEpoch: 20/20...Step: 2441...Loss: 1.1817...Val Loss: 1.4825\nEpoch: 20/20...Step: 2442...Loss: 1.1468...Val Loss: 1.4749\nEpoch: 20/20...Step: 2443...Loss: 1.1295...Val Loss: 1.4714\nEpoch: 20/20...Step: 2444...Loss: 1.1243...Val Loss: 1.4720\nEpoch: 20/20...Step: 2445...Loss: 1.1048...Val Loss: 1.4759\nEpoch: 20/20...Step: 2446...Loss: 1.0996...Val Loss: 1.4817\nEpoch: 20/20...Step: 2447...Loss: 1.1228...Val Loss: 1.4878\nEpoch: 20/20...Step: 2448...Loss: 1.1275...Val Loss: 1.4895\nEpoch: 20/20...Step: 2449...Loss: 1.0740...Val Loss: 1.4902\nEpoch: 20/20...Step: 2450...Loss: 1.1305...Val Loss: 1.4880\nEpoch: 20/20...Step: 2451...Loss: 1.1578...Val Loss: 1.4835\nEpoch: 20/20...Step: 2452...Loss: 1.1113...Val Loss: 1.4803\nEpoch: 20/20...Step: 2453...Loss: 1.2042...Val Loss: 1.4793\nEpoch: 20/20...Step: 2454...Loss: 1.1114...Val Loss: 1.4804\nEpoch: 20/20...Step: 2455...Loss: 1.1011...Val Loss: 1.4837\nEpoch: 20/20...Step: 2456...Loss: 1.0627...Val Loss: 1.4875\nEpoch: 20/20...Step: 2457...Loss: 1.1085...Val Loss: 1.4881\nEpoch: 20/20...Step: 2458...Loss: 1.1325...Val Loss: 1.4832\nEpoch: 20/20...Step: 2459...Loss: 1.1262...Val Loss: 1.4787\nEpoch: 20/20...Step: 2460...Loss: 1.1096...Val Loss: 1.4756\nEpoch: 20/20...Step: 2461...Loss: 1.1312...Val Loss: 1.4741\nEpoch: 20/20...Step: 2462...Loss: 1.1014...Val Loss: 1.4750\nEpoch: 20/20...Step: 2463...Loss: 1.0585...Val Loss: 1.4791\nEpoch: 20/20...Step: 2464...Loss: 1.0944...Val Loss: 1.4843\nEpoch: 20/20...Step: 2465...Loss: 1.0868...Val Loss: 1.4876\nEpoch: 20/20...Step: 2466...Loss: 1.1520...Val Loss: 1.4858\nEpoch: 20/20...Step: 2467...Loss: 1.1588...Val Loss: 1.4807\nEpoch: 20/20...Step: 2468...Loss: 1.1026...Val Loss: 1.4766\nEpoch: 20/20...Step: 2469...Loss: 1.1062...Val Loss: 1.4748\nEpoch: 20/20...Step: 2470...Loss: 1.1124...Val Loss: 1.4748\nEpoch: 20/20...Step: 2471...Loss: 1.1445...Val Loss: 1.4761\nEpoch: 20/20...Step: 2472...Loss: 1.1617...Val Loss: 1.4781\nEpoch: 20/20...Step: 2473...Loss: 1.1888...Val Loss: 1.4784\nEpoch: 20/20...Step: 2474...Loss: 1.1532...Val Loss: 1.4783\nEpoch: 20/20...Step: 2475...Loss: 1.1171...Val Loss: 1.4778\nEpoch: 20/20...Step: 2476...Loss: 1.0827...Val Loss: 1.4787\nEpoch: 20/20...Step: 2477...Loss: 1.1306...Val Loss: 1.4805\nEpoch: 20/20...Step: 2478...Loss: 1.0954...Val Loss: 1.4836\nEpoch: 20/20...Step: 2479...Loss: 1.0679...Val Loss: 1.4864\nEpoch: 20/20...Step: 2480...Loss: 1.1152...Val Loss: 1.4879\nEpoch: 20/20...Step: 2481...Loss: 1.0889...Val Loss: 1.4848\nEpoch: 20/20...Step: 2482...Loss: 1.0758...Val Loss: 1.4803\nEpoch: 20/20...Step: 2483...Loss: 1.0687...Val Loss: 1.4763\nEpoch: 20/20...Step: 2484...Loss: 1.0892...Val Loss: 1.4746\nEpoch: 20/20...Step: 2485...Loss: 1.1186...Val Loss: 1.4736\nEpoch: 20/20...Step: 2486...Loss: 1.1450...Val Loss: 1.4727\nEpoch: 20/20...Step: 2487...Loss: 1.0773...Val Loss: 1.4733\nEpoch: 20/20...Step: 2488...Loss: 1.1146...Val Loss: 1.4722\nEpoch: 20/20...Step: 2489...Loss: 1.1285...Val Loss: 1.4708\nEpoch: 20/20...Step: 2490...Loss: 1.0976...Val Loss: 1.4703\nEpoch: 20/20...Step: 2491...Loss: 1.1172...Val Loss: 1.4709\nEpoch: 20/20...Step: 2492...Loss: 1.0911...Val Loss: 1.4734\nEpoch: 20/20...Step: 2493...Loss: 1.0967...Val Loss: 1.4790\nEpoch: 20/20...Step: 2494...Loss: 1.0572...Val Loss: 1.4844\nEpoch: 20/20...Step: 2495...Loss: 1.0553...Val Loss: 1.4844\nEpoch: 20/20...Step: 2496...Loss: 1.0598...Val Loss: 1.4808\nEpoch: 20/20...Step: 2497...Loss: 1.0888...Val Loss: 1.4760\nEpoch: 20/20...Step: 2498...Loss: 1.1337...Val Loss: 1.4726\nEpoch: 20/20...Step: 2499...Loss: 1.1403...Val Loss: 1.4726\nEpoch: 20/20...Step: 2500...Loss: 1.0998...Val Loss: 1.4757\nEpoch: 20/20...Step: 2501...Loss: 1.0511...Val Loss: 1.4806\nEpoch: 20/20...Step: 2502...Loss: 1.0722...Val Loss: 1.4867\nEpoch: 20/20...Step: 2503...Loss: 1.0733...Val Loss: 1.4909\nEpoch: 20/20...Step: 2504...Loss: 1.0882...Val Loss: 1.4892\nEpoch: 20/20...Step: 2505...Loss: 1.0738...Val Loss: 1.4846\nEpoch: 20/20...Step: 2506...Loss: 1.1285...Val Loss: 1.4803\nEpoch: 20/20...Step: 2507...Loss: 1.1417...Val Loss: 1.4762\nEpoch: 20/20...Step: 2508...Loss: 1.0776...Val Loss: 1.4751\nEpoch: 20/20...Step: 2509...Loss: 1.1088...Val Loss: 1.4764\nEpoch: 20/20...Step: 2510...Loss: 1.1201...Val Loss: 1.4775\nEpoch: 20/20...Step: 2511...Loss: 1.0667...Val Loss: 1.4802\nEpoch: 20/20...Step: 2512...Loss: 1.0812...Val Loss: 1.4821\nEpoch: 20/20...Step: 2513...Loss: 1.0500...Val Loss: 1.4812\nEpoch: 20/20...Step: 2514...Loss: 1.0426...Val Loss: 1.4806\nEpoch: 20/20...Step: 2515...Loss: 1.0538...Val Loss: 1.4796\nEpoch: 20/20...Step: 2516...Loss: 1.0632...Val Loss: 1.4794\nEpoch: 20/20...Step: 2517...Loss: 1.1012...Val Loss: 1.4797\nEpoch: 20/20...Step: 2518...Loss: 1.1084...Val Loss: 1.4819\nEpoch: 20/20...Step: 2519...Loss: 1.0981...Val Loss: 1.4833\nEpoch: 20/20...Step: 2520...Loss: 1.1065...Val Loss: 1.4778\n"
    }
   ],
   "source": [
    "batch_size = 64\n",
    "seq_length = 100\n",
    "n_epochs = 20 # start smaller if you are just testing initial behavior\n",
    "\n",
    "# train the model\n",
    "train(net, encoded, epochs=n_epochs, batch_size=batch_size, seq_length=seq_length, lr=0.001, print_every=1)"
   ]
  },
  {
   "cell_type": "code",
   "execution_count": 14,
   "metadata": {},
   "outputs": [],
   "source": [
    "# change the name, for saving multiple files\n",
    "model_name = 'rnn_20_epoch.net'\n",
    "\n",
    "checkpoint = {'n_hidden': net.n_hidden,\n",
    "              'n_layers': net.n_layers,\n",
    "              'state_dict': net.state_dict(),\n",
    "              'tokens': net.chars}\n",
    "\n",
    "with open(model_name, 'wb') as f:\n",
    "    torch.save(checkpoint, f)"
   ]
  },
  {
   "cell_type": "code",
   "execution_count": 15,
   "metadata": {},
   "outputs": [],
   "source": [
    "def predict(net, char, h=None, top_k=None):\n",
    "        ''' Given a character, predict the next character.\n",
    "            Returns the predicted character and the hidden state.\n",
    "        '''\n",
    "        \n",
    "        # tensor inputs\n",
    "        x = np.array([[net.char2int[char]]])\n",
    "        x = one_hot_encode(x, len(net.chars))\n",
    "        inputs = torch.from_numpy(x)\n",
    "        \n",
    "        if(train_on_gpu):\n",
    "            inputs = inputs.cuda()\n",
    "        \n",
    "        # detach hidden state from history\n",
    "        h = tuple([each.data for each in h])\n",
    "        # get the output of the model\n",
    "        out, h = net(inputs, h)\n",
    "\n",
    "        # get the character probabilities\n",
    "        p = F.softmax(out, dim=1).data\n",
    "        if(train_on_gpu):\n",
    "            p = p.cpu() # move to cpu\n",
    "        \n",
    "        # get top characters\n",
    "        if top_k is None:\n",
    "            top_ch = np.arange(len(net.chars))\n",
    "        else:\n",
    "            p, top_ch = p.topk(top_k)\n",
    "            top_ch = top_ch.numpy().squeeze()\n",
    "        \n",
    "        # select the likely next character with some element of randomness\n",
    "        p = p.numpy().squeeze()\n",
    "        char = np.random.choice(top_ch, p=p/p.sum())\n",
    "        \n",
    "        # return the encoded value of the predicted char and the hidden state\n",
    "        return net.int2char[char], h"
   ]
  },
  {
   "cell_type": "code",
   "execution_count": 16,
   "metadata": {},
   "outputs": [],
   "source": [
    "def sample(net, size, prime='The', top_k=None):\n",
    "        \n",
    "    if(train_on_gpu):\n",
    "        net.cuda()\n",
    "    else:\n",
    "        net.cpu()\n",
    "    \n",
    "    net.eval() # eval mode\n",
    "    \n",
    "    # First off, run through the prime characters\n",
    "    chars = [ch for ch in prime]\n",
    "    h = net.init_hidden(1)\n",
    "    for ch in prime:\n",
    "        char, h = predict(net, ch, h, top_k=top_k)\n",
    "\n",
    "    chars.append(char)\n",
    "    \n",
    "    # Now pass in the previous character and get a new one\n",
    "    for ii in range(size):\n",
    "        char, h = predict(net, chars[-1], h, top_k=top_k)\n",
    "        chars.append(char)\n",
    "\n",
    "    return ''.join(chars)"
   ]
  },
  {
   "cell_type": "code",
   "execution_count": 19,
   "metadata": {},
   "outputs": [
    {
     "name": "stdout",
     "output_type": "stream",
     "text": "love\n\nI want you all the time we could be the one\n\nI want to say that you want to love me \n\nThe stars wasted to the sea\n\nAnd they say I love you so much\n\nAnd if I can't live without you\n\nAnd I don't want to lose you\n\nI can't wait another minute \n\nI can't let you down\n\nI've got a ship on the sky\n\nI don't know what to do\nI can't see the world to you all the same\nI know that I want you to show\nI could never leave you all the things\n\nI can't let you down\n\nI want to stand by my life\nI want to let it go\nI want you to show me \n\nYou're the only one\nI'll be there\nI was made to feel this\nI was meant to be\n\nI know I wouldn't look at you\n\nI can't wait another minute \nI want you to know\nI love you to me\n\nI would take a little bit\n\nI know I'll be\n\nI've been there when you are the world I would fell \nYou are there when you are the only one \nI want to leave you my heart\n\nI can't wait, it was made for me \nI want you to know\nI'll be there for you\nI wanna kiss your love \nAll the world will live with you\nI wil\n"
    }
   ],
   "source": [
    "print(sample(net, 1000, prime='love', top_k=2))"
   ]
  },
  {
   "cell_type": "code",
   "execution_count": null,
   "metadata": {},
   "outputs": [],
   "source": []
  }
 ]
}